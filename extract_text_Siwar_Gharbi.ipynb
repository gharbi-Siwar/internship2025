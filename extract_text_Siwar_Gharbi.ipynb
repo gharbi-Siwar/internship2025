{
  "nbformat": 4,
  "nbformat_minor": 0,
  "metadata": {
    "colab": {
      "provenance": []
    },
    "kernelspec": {
      "name": "python3",
      "display_name": "Python 3"
    },
    "language_info": {
      "name": "python"
    }
  },
  "cells": [
    {
      "cell_type": "code",
      "source": [
        "!pip install pytesseract pdfplumber python-docx openpyxl pymupdf\n"
      ],
      "metadata": {
        "colab": {
          "base_uri": "https://localhost:8080/"
        },
        "id": "q1WDiFbKiyVi",
        "outputId": "4f72ff9b-8064-486a-ebcd-a93f73ea7acd"
      },
      "execution_count": null,
      "outputs": [
        {
          "output_type": "stream",
          "name": "stdout",
          "text": [
            "Collecting pytesseract\n",
            "  Downloading pytesseract-0.3.13-py3-none-any.whl.metadata (11 kB)\n",
            "Collecting pdfplumber\n",
            "  Downloading pdfplumber-0.11.6-py3-none-any.whl.metadata (42 kB)\n",
            "\u001b[2K     \u001b[90m━━━━━━━━━━━━━━━━━━━━━━━━━━━━━━━━━━━━━━━━\u001b[0m \u001b[32m42.8/42.8 kB\u001b[0m \u001b[31m1.9 MB/s\u001b[0m eta \u001b[36m0:00:00\u001b[0m\n",
            "\u001b[?25hCollecting python-docx\n",
            "  Downloading python_docx-1.1.2-py3-none-any.whl.metadata (2.0 kB)\n",
            "Requirement already satisfied: openpyxl in /usr/local/lib/python3.11/dist-packages (3.1.5)\n",
            "Collecting pymupdf\n",
            "  Downloading pymupdf-1.25.5-cp39-abi3-manylinux2014_x86_64.manylinux_2_17_x86_64.whl.metadata (3.4 kB)\n",
            "Requirement already satisfied: packaging>=21.3 in /usr/local/lib/python3.11/dist-packages (from pytesseract) (24.2)\n",
            "Requirement already satisfied: Pillow>=8.0.0 in /usr/local/lib/python3.11/dist-packages (from pytesseract) (11.2.1)\n",
            "Collecting pdfminer.six==20250327 (from pdfplumber)\n",
            "  Downloading pdfminer_six-20250327-py3-none-any.whl.metadata (4.1 kB)\n",
            "Collecting pypdfium2>=4.18.0 (from pdfplumber)\n",
            "  Downloading pypdfium2-4.30.1-py3-none-manylinux_2_17_x86_64.manylinux2014_x86_64.whl.metadata (48 kB)\n",
            "\u001b[2K     \u001b[90m━━━━━━━━━━━━━━━━━━━━━━━━━━━━━━━━━━━━━━━━\u001b[0m \u001b[32m48.2/48.2 kB\u001b[0m \u001b[31m3.0 MB/s\u001b[0m eta \u001b[36m0:00:00\u001b[0m\n",
            "\u001b[?25hRequirement already satisfied: charset-normalizer>=2.0.0 in /usr/local/lib/python3.11/dist-packages (from pdfminer.six==20250327->pdfplumber) (3.4.2)\n",
            "Requirement already satisfied: cryptography>=36.0.0 in /usr/local/lib/python3.11/dist-packages (from pdfminer.six==20250327->pdfplumber) (43.0.3)\n",
            "Requirement already satisfied: lxml>=3.1.0 in /usr/local/lib/python3.11/dist-packages (from python-docx) (5.4.0)\n",
            "Requirement already satisfied: typing-extensions>=4.9.0 in /usr/local/lib/python3.11/dist-packages (from python-docx) (4.13.2)\n",
            "Requirement already satisfied: et-xmlfile in /usr/local/lib/python3.11/dist-packages (from openpyxl) (2.0.0)\n",
            "Requirement already satisfied: cffi>=1.12 in /usr/local/lib/python3.11/dist-packages (from cryptography>=36.0.0->pdfminer.six==20250327->pdfplumber) (1.17.1)\n",
            "Requirement already satisfied: pycparser in /usr/local/lib/python3.11/dist-packages (from cffi>=1.12->cryptography>=36.0.0->pdfminer.six==20250327->pdfplumber) (2.22)\n",
            "Downloading pytesseract-0.3.13-py3-none-any.whl (14 kB)\n",
            "Downloading pdfplumber-0.11.6-py3-none-any.whl (60 kB)\n",
            "\u001b[2K   \u001b[90m━━━━━━━━━━━━━━━━━━━━━━━━━━━━━━━━━━━━━━━━\u001b[0m \u001b[32m60.2/60.2 kB\u001b[0m \u001b[31m4.2 MB/s\u001b[0m eta \u001b[36m0:00:00\u001b[0m\n",
            "\u001b[?25hDownloading pdfminer_six-20250327-py3-none-any.whl (5.6 MB)\n",
            "\u001b[2K   \u001b[90m━━━━━━━━━━━━━━━━━━━━━━━━━━━━━━━━━━━━━━━━\u001b[0m \u001b[32m5.6/5.6 MB\u001b[0m \u001b[31m63.6 MB/s\u001b[0m eta \u001b[36m0:00:00\u001b[0m\n",
            "\u001b[?25hDownloading python_docx-1.1.2-py3-none-any.whl (244 kB)\n",
            "\u001b[2K   \u001b[90m━━━━━━━━━━━━━━━━━━━━━━━━━━━━━━━━━━━━━━━━\u001b[0m \u001b[32m244.3/244.3 kB\u001b[0m \u001b[31m17.9 MB/s\u001b[0m eta \u001b[36m0:00:00\u001b[0m\n",
            "\u001b[?25hDownloading pymupdf-1.25.5-cp39-abi3-manylinux2014_x86_64.manylinux_2_17_x86_64.whl (20.0 MB)\n",
            "\u001b[2K   \u001b[90m━━━━━━━━━━━━━━━━━━━━━━━━━━━━━━━━━━━━━━━━\u001b[0m \u001b[32m20.0/20.0 MB\u001b[0m \u001b[31m87.1 MB/s\u001b[0m eta \u001b[36m0:00:00\u001b[0m\n",
            "\u001b[?25hDownloading pypdfium2-4.30.1-py3-none-manylinux_2_17_x86_64.manylinux2014_x86_64.whl (2.9 MB)\n",
            "\u001b[2K   \u001b[90m━━━━━━━━━━━━━━━━━━━━━━━━━━━━━━━━━━━━━━━━\u001b[0m \u001b[32m2.9/2.9 MB\u001b[0m \u001b[31m52.6 MB/s\u001b[0m eta \u001b[36m0:00:00\u001b[0m\n",
            "\u001b[?25hInstalling collected packages: python-docx, pytesseract, pypdfium2, pymupdf, pdfminer.six, pdfplumber\n",
            "Successfully installed pdfminer.six-20250327 pdfplumber-0.11.6 pymupdf-1.25.5 pypdfium2-4.30.1 pytesseract-0.3.13 python-docx-1.1.2\n"
          ]
        }
      ]
    },
    {
      "cell_type": "code",
      "source": [
        "import os\n",
        "import logging\n",
        "import pytesseract\n",
        "import pdfplumber\n",
        "import fitz\n",
        "from PIL import Image\n",
        "from docx import Document\n",
        "from openpyxl import load_workbook\n",
        "from pathlib import Path\n",
        "\n",
        "\n",
        "logging.basicConfig(\n",
        "    filename='extraction_log.log',\n",
        "    level=logging.INFO,\n",
        "    format='%(asctime)s - %(levelname)s - %(message)s'\n",
        ")\n",
        "\n",
        "SUPPORTED_EXTENSIONS = ['.pdf', '.docx', '.xlsx']\n",
        "\n",
        "def extract_text_from_pdf(filepath):\n",
        "    try:\n",
        "        with pdfplumber.open(filepath) as pdf:\n",
        "            text = ''.join(page.extract_text() or '' for page in pdf.pages)\n",
        "        if not text.strip():\n",
        "            text = extract_text_from_pdf_with_ocr(filepath)\n",
        "        return text\n",
        "    except Exception as e:\n",
        "        logging.error(f\"Failed to extract PDF text: {filepath} - {e}\")\n",
        "        return \"\"\n",
        "\n",
        "def extract_text_from_pdf_with_ocr(filepath):\n",
        "    try:\n",
        "        text = ''\n",
        "        doc = fitz.open(filepath)\n",
        "        for page_num in range(len(doc)):\n",
        "            pix = doc[page_num].get_pixmap(dpi=300)\n",
        "            image = Image.frombytes(\"RGB\", [pix.width, pix.height], pix.samples)\n",
        "            text += pytesseract.image_to_string(image)\n",
        "        return text\n",
        "    except Exception as e:\n",
        "        logging.error(f\"OCR failed for PDF: {filepath} - {e}\")\n",
        "        return \"\"\n",
        "\n",
        "def extract_text_from_docx(filepath):\n",
        "    try:\n",
        "        doc = Document(filepath)\n",
        "        return '\\n'.join([para.text for para in doc.paragraphs])\n",
        "    except Exception as e:\n",
        "        logging.error(f\"Failed to extract DOCX text: {filepath} - {e}\")\n",
        "        return \"\"\n",
        "\n",
        "def extract_text_from_xlsx(filepath):\n",
        "    try:\n",
        "        workbook = load_workbook(filepath, data_only=True)\n",
        "        text = ''\n",
        "        for sheet in workbook.worksheets:\n",
        "            for row in sheet.iter_rows(values_only=True):\n",
        "                line = ' '.join([str(cell) for cell in row if cell is not None])\n",
        "                text += line + '\\n'\n",
        "        return text\n",
        "    except Exception as e:\n",
        "        logging.error(f\"Failed to extract XLSX text: {filepath} - {e}\")\n",
        "        return \"\"\n",
        "\n",
        "def extract_all_text_from_folder(folder_path='uploads'):\n",
        "    extracted_data = {}\n",
        "    folder = Path(folder_path)\n",
        "\n",
        "    if not folder.exists() or not folder.is_dir():\n",
        "        logging.error(f\"Folder not found: {folder_path}\")\n",
        "        return extracted_data\n",
        "\n",
        "    for filepath in folder.rglob(\"*\"):\n",
        "        if filepath.suffix.lower() not in SUPPORTED_EXTENSIONS:\n",
        "            continue\n",
        "\n",
        "        try:\n",
        "            logging.info(f\"Processing file: {filepath}\")\n",
        "            if filepath.suffix.lower() == '.pdf':\n",
        "                text = extract_text_from_pdf(filepath)\n",
        "            elif filepath.suffix.lower() == '.docx':\n",
        "                text = extract_text_from_docx(filepath)\n",
        "            elif filepath.suffix.lower() == '.xlsx':\n",
        "                text = extract_text_from_xlsx(filepath)\n",
        "            else:\n",
        "                continue\n",
        "\n",
        "            extracted_data[str(filepath)] = text\n",
        "\n",
        "        except Exception as e:\n",
        "            logging.error(f\"Unhandled error while processing {filepath}: {e}\")\n",
        "\n",
        "    return extracted_data\n",
        "\n",
        "os.makedirs(\"extracted_texts\", exist_ok=True)\n",
        "\n",
        "\n",
        "for filepath, content in results.items():\n",
        "    filename = os.path.basename(filepath)\n",
        "    base_name = os.path.splitext(filename)[0]\n",
        "    output_path = os.path.join(\"extracted_texts\", base_name + \".txt\")\n",
        "\n",
        "    with open(output_path, \"w\", encoding=\"utf-8\") as f:\n",
        "        f.write(content)\n",
        "\n",
        "print(\" Tous les fichiers extraits ont été sauvegardés dans le dossier 'extracted_texts/'\")\n"
      ],
      "metadata": {
        "id": "UF7DM3yhisxm",
        "colab": {
          "base_uri": "https://localhost:8080/"
        },
        "outputId": "9e8a4c1f-fdd2-42dd-a3dd-61d10ae271cc"
      },
      "execution_count": null,
      "outputs": [
        {
          "output_type": "stream",
          "name": "stdout",
          "text": [
            " Tous les fichiers extraits ont été sauvegardés dans le dossier 'extracted_texts/'\n"
          ]
        }
      ]
    }
  ]
}